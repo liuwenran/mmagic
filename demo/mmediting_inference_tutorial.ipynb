{
 "cells": [
  {
   "cell_type": "markdown",
   "metadata": {},
   "source": [
    "# MMEditing Inference Tutorial\n",
    "\n",
    "Welcome to MMEditing! In this tutorial you will learn how to use MMEditing inference api to predict your own image or video. \n",
    "\n",
    "This is a quick guide for you to infer with existing models. "
   ]
  },
  {
   "cell_type": "markdown",
   "metadata": {},
   "source": [
    "## 1. Install MMEditing\n",
    "Please refer to [README.md](README.md) for installation instruction."
   ]
  },
  {
   "cell_type": "markdown",
   "metadata": {},
   "source": [
    "## 2. Inference API Introduction\n",
    "\n",
    "You could use inference api in your python code or with command line."
   ]
  },
  {
   "cell_type": "markdown",
   "metadata": {},
   "source": [
    "### 2.1 Inference with python code\n",
    "\n",
    "MMEditing inference api makes it easy to infer your own image or video with two lines python code. \n",
    "\n",
    "Take image translation for example.\n",
    "\n",
    "There are two steps:\n",
    "\n",
    "First, create a MMEdit instance by a pretrained model name.\n",
    "\n",
    "Second, infer your own image with this MMEdit instance."
   ]
  },
  {
   "cell_type": "code",
   "execution_count": null,
   "metadata": {},
   "outputs": [],
   "source": [
    "from mmedit.edit import MMEdit\n",
    "\n",
    "# Create a MMEdit instance\n",
    "editor = MMEdit('pix2pix')\n",
    "# Infer a image. Input image path and output image path is needed.\n",
    "editor.infer(img='resources/input/translation/gt_mask_0.png', result_out_dir='resources/demo_results/tutorial_translation_res.jpg')"
   ]
  },
  {
   "cell_type": "markdown",
   "metadata": {},
   "source": [
    "### 2.2 Inference with command line\n",
    "\n",
    "There is a command line interface in this folder (MMEditing/demo/mmediting_inference_demo.py).\n",
    "\n",
    "You could infer a model with this interface like this (do this in MMEditing root path)."
   ]
  },
  {
   "cell_type": "code",
   "execution_count": null,
   "metadata": {
    "vscode": {
     "languageId": "shellscript"
    }
   },
   "outputs": [],
   "source": [
    "bash demo/mmediting_inference_demo.py --model-name pix2pix --img='resources/input/translation/gt_mask_0.png', result_out_dir='resources/demo_results/tutorial_translation_res.jpg'"
   ]
  },
  {
   "cell_type": "markdown",
   "metadata": {},
   "source": [
    "## 3. Infer with models of different tasks\n",
    "\n",
    "There are multiple task types in MMEditing: conditional, inpainting, matting, restoration, translation, unconditional, video_interpolation, video_restoration. \n",
    "\n",
    "We provide some models for each task. All available models could be printed out like this."
   ]
  },
  {
   "cell_type": "code",
   "execution_count": null,
   "metadata": {},
   "outputs": [],
   "source": [
    "from mmedit.edit import MMEdit\n",
    "\n",
    "# print all available models for inference.\n",
    "inference_supported_models = MMEdit.inference_supported_models\n",
    "print('all available models:')\n",
    "print(list(inference_supported_models.keys()))\n",
    "\n",
    "# print all available models for one task, take image translation for example.\n",
    "print('translation models:')\n",
    "for key in inference_supported_models.keys():\n",
    "    if inference_supported_models[key]['type'] == 'translation':\n",
    "        print(key)"
   ]
  },
  {
   "cell_type": "markdown",
   "metadata": {},
   "source": [
    "### 3.1 Inference of conditional models\n",
    "\n",
    "Input: label, output: image."
   ]
  },
  {
   "cell_type": "code",
   "execution_count": null,
   "metadata": {
    "vscode": {
     "languageId": "shellscript"
    }
   },
   "outputs": [],
   "source": [
    "python demo/mmediting_inference_demo.py \\\n",
    "        --model-name biggan \\\n",
    "        --label 1 \\\n",
    "        --result-out-dir resources/demo_results/conditional_res.jpg"
   ]
  },
  {
   "cell_type": "markdown",
   "metadata": {},
   "source": [
    "### 3.2 Inference of inpainting models\n",
    "\n",
    "Input: masked image, mask, output: inpainted image."
   ]
  },
  {
   "cell_type": "code",
   "execution_count": null,
   "metadata": {
    "vscode": {
     "languageId": "shellscript"
    }
   },
   "outputs": [],
   "source": [
    "python demo/mmediting_inference_demo.py \\\n",
    "        --model-name aot_gan  \\\n",
    "        --img resources/input/inpainting/img_resized.jpg \\\n",
    "        --mask resources/input/inpainting/mask_2_resized.png \\\n",
    "        --result-out-dir resources/demo_results/inpainting_res.jpg"
   ]
  },
  {
   "cell_type": "markdown",
   "metadata": {},
   "source": [
    "### 3.3 Inference of matting models\n",
    "\n",
    "Input: image, trimap, output: alpha image."
   ]
  },
  {
   "cell_type": "code",
   "execution_count": null,
   "metadata": {
    "vscode": {
     "languageId": "shellscript"
    }
   },
   "outputs": [],
   "source": [
    "python demo/mmediting_inference_demo.py \\\n",
    "        --model-name gca \\\n",
    "        --img resources/input/restoration/0901x2.png \\\n",
    "        --trimap resources/input/matting/beach_trimap.png \\\n",
    "        --result-out-dir resources/demo_results/restoration_res.png"
   ]
  },
  {
   "cell_type": "markdown",
   "metadata": {},
   "source": [
    "### 3.4 Inference of restoration models\n",
    "\n",
    "Input: image, output: restored image."
   ]
  },
  {
   "cell_type": "code",
   "execution_count": null,
   "metadata": {
    "vscode": {
     "languageId": "shellscript"
    }
   },
   "outputs": [],
   "source": [
    "python demo/mmediting_inference_demo.py \\\n",
    "        --model-name esrgan \\\n",
    "        --img resources/input/restoration/0901x2.png \\\n",
    "        --result-out-dir resources/demo_results/restoration_res.png"
   ]
  },
  {
   "cell_type": "markdown",
   "metadata": {},
   "source": [
    "### 3.5 Inference of translation models\n",
    "\n",
    "Input: image, output: translated image."
   ]
  },
  {
   "cell_type": "code",
   "execution_count": null,
   "metadata": {
    "vscode": {
     "languageId": "shellscript"
    }
   },
   "outputs": [],
   "source": [
    "python demo/mmediting_inference_demo.py \\\n",
    "        --model-name pix2pix \\\n",
    "        --img resources/input/translation/gt_mask_0.png \\\n",
    "        --result-out-dir resources/demo_results/translation_res.png"
   ]
  },
  {
   "cell_type": "markdown",
   "metadata": {},
   "source": [
    "### 3.6 Inference of unconditional models\n",
    "\n",
    "Input: None, output: image."
   ]
  },
  {
   "cell_type": "code",
   "execution_count": null,
   "metadata": {
    "vscode": {
     "languageId": "shellscript"
    }
   },
   "outputs": [],
   "source": [
    "python demo/mmediting_inference_demo.py \\\n",
    "        --model-name styleganv1 \\\n",
    "        --result-out-dir resources/demo_results/unconditional_res.jpg"
   ]
  },
  {
   "cell_type": "markdown",
   "metadata": {},
   "source": [
    "### 3.7 Inference of video_interpolation models\n",
    "\n",
    "Input: video, output: interpolated video."
   ]
  },
  {
   "cell_type": "code",
   "execution_count": null,
   "metadata": {
    "vscode": {
     "languageId": "shellscript"
    }
   },
   "outputs": [],
   "source": [
    "python demo/mmediting_inference_demo.py \\\n",
    "        --model-name flavr \\\n",
    "        --video resources/input/video_interpolation/v_Basketball_g01_c01.avi \\\n",
    "        --result-out-dir resources/demo_results/video_interpolation_res.avi"
   ]
  },
  {
   "cell_type": "markdown",
   "metadata": {},
   "source": [
    "### 3.8 Inference of video_restoration models\n",
    "\n",
    "Input: video, output: restorated video."
   ]
  },
  {
   "cell_type": "code",
   "execution_count": null,
   "metadata": {
    "vscode": {
     "languageId": "shellscript"
    }
   },
   "outputs": [],
   "source": [
    "python demo/mmediting_inference_demo.py \\\n",
    "        --model-name basicvsr \\\n",
    "        --video resources/input/video_restoration/v_Basketball_g01_c01.avi \\\n",
    "        --result-out-dir resources/demo_results/video_restoration_res.avi"
   ]
  }
 ],
 "metadata": {
  "kernelspec": {
   "display_name": "Python 3.8.13 ('py38pt19cu111')",
   "language": "python",
   "name": "python3"
  },
  "language_info": {
   "codemirror_mode": {
    "name": "ipython",
    "version": 3
   },
   "file_extension": ".py",
   "mimetype": "text/x-python",
   "name": "python",
   "nbconvert_exporter": "python",
   "pygments_lexer": "ipython3",
   "version": "3.8.13"
  },
  "orig_nbformat": 4,
  "vscode": {
   "interpreter": {
    "hash": "cc59650aeaf0a5b1e5ddb0ea8c138097613dc74b68e66e82242be7e50dd0d685"
   }
  }
 },
 "nbformat": 4,
 "nbformat_minor": 2
}
